{
  "cells": [
    {
      "cell_type": "markdown",
      "metadata": {
        "id": "MqtETKyTJV9F"
      },
      "source": [
        "# DSCI 235 Final Exam Spring 22\n",
        "\n",
        "In this exam you will analyze several datasets using the tools we have studied this semester.\n",
        "\n",
        "**Instructions:** \n",
        "\n",
        "* You have two hours \n",
        "* Sign and date the honor statement below.\n",
        "* Do not use loop constructs unless explicitly suggested.\n",
        "* Submit your notebook via Canvas\n"
      ]
    },
    {
      "cell_type": "markdown",
      "metadata": {
        "id": "INvQ7GMGJV9J"
      },
      "source": [
        "Honor statement:\n",
        "\n",
        "**I affirm that I have not given or received any unauthorized help on this exam, and that this work is my own.**"
      ]
    },
    {
      "cell_type": "markdown",
      "metadata": {
        "id": "SNkD18eEJV9K"
      },
      "source": [
        "Matthew Boyd - May 2, 2022"
      ]
    },
    {
      "cell_type": "code",
      "execution_count": 1,
      "metadata": {
        "id": "mbvaTf3qJV9L"
      },
      "outputs": [],
      "source": [
        "import pandas as pd"
      ]
    },
    {
      "cell_type": "markdown",
      "metadata": {
        "id": "qp8OI8sBJV9N"
      },
      "source": [
        "## Part 1:  The world happiness report\n",
        "\n",
        "The World Happiness Report is a survey of the state of global happiness. \n",
        "It has been published regularly since 2012, and the focus here is on the results of the third report from 2015.  The 2015 report ranks 158 countries by their happiness levels.\n",
        "The report continues to gain global recognition as governments, organizations and civil society increasingly use happiness indicators to inform their policy-making decisions.\n",
        "\n",
        "Each country has the following information:\n",
        "\n",
        "* Happiness score - a number between 1 and 10 that represents the average polled happiness score for that country.\n",
        "* Happiness rank:  the rank of each country in terms of its happiness score (the country with the highest happiness score has happiness rank equal to 1).\n",
        "* Region - the region the country belongs to.\n",
        "* Other information that is correlated with happiness (life expectancy, GDP, sense of freedom, the importance of family, etc.)\n",
        "\n",
        "In our analysis we will focus on the happiness score/rank and region information.\n",
        "\n",
        "Let's read the data:"
      ]
    },
    {
      "cell_type": "code",
      "execution_count": 2,
      "metadata": {
        "colab": {
          "base_uri": "https://localhost:8080/",
          "height": 354
        },
        "id": "kOkS6vB2JV9O",
        "outputId": "dd23bd80-57d4-4f23-e6a8-b16a2495f736"
      },
      "outputs": [
        {
          "output_type": "execute_result",
          "data": {
            "text/plain": [
              "       Country          Region  Happiness Rank  Happiness Score  \\\n",
              "0  Switzerland  Western Europe               1            7.587   \n",
              "1      Iceland  Western Europe               2            7.561   \n",
              "2      Denmark  Western Europe               3            7.527   \n",
              "3       Norway  Western Europe               4            7.522   \n",
              "4       Canada   North America               5            7.427   \n",
              "\n",
              "   Standard Error  Economy (GDP per Capita)   Family  \\\n",
              "0         0.03411                   1.39651  1.34951   \n",
              "1         0.04884                   1.30232  1.40223   \n",
              "2         0.03328                   1.32548  1.36058   \n",
              "3         0.03880                   1.45900  1.33095   \n",
              "4         0.03553                   1.32629  1.32261   \n",
              "\n",
              "   Health (Life Expectancy)  Freedom  Trust (Government Corruption)  \\\n",
              "0                   0.94143  0.66557                        0.41978   \n",
              "1                   0.94784  0.62877                        0.14145   \n",
              "2                   0.87464  0.64938                        0.48357   \n",
              "3                   0.88521  0.66973                        0.36503   \n",
              "4                   0.90563  0.63297                        0.32957   \n",
              "\n",
              "   Generosity  Dystopia Residual  \n",
              "0     0.29678            2.51738  \n",
              "1     0.43630            2.70201  \n",
              "2     0.34139            2.49204  \n",
              "3     0.34699            2.46531  \n",
              "4     0.45811            2.45176  "
            ],
            "text/html": [
              "\n",
              "  <div id=\"df-07cc5d8b-31cb-4d88-a14d-8de6ea50cce2\">\n",
              "    <div class=\"colab-df-container\">\n",
              "      <div>\n",
              "<style scoped>\n",
              "    .dataframe tbody tr th:only-of-type {\n",
              "        vertical-align: middle;\n",
              "    }\n",
              "\n",
              "    .dataframe tbody tr th {\n",
              "        vertical-align: top;\n",
              "    }\n",
              "\n",
              "    .dataframe thead th {\n",
              "        text-align: right;\n",
              "    }\n",
              "</style>\n",
              "<table border=\"1\" class=\"dataframe\">\n",
              "  <thead>\n",
              "    <tr style=\"text-align: right;\">\n",
              "      <th></th>\n",
              "      <th>Country</th>\n",
              "      <th>Region</th>\n",
              "      <th>Happiness Rank</th>\n",
              "      <th>Happiness Score</th>\n",
              "      <th>Standard Error</th>\n",
              "      <th>Economy (GDP per Capita)</th>\n",
              "      <th>Family</th>\n",
              "      <th>Health (Life Expectancy)</th>\n",
              "      <th>Freedom</th>\n",
              "      <th>Trust (Government Corruption)</th>\n",
              "      <th>Generosity</th>\n",
              "      <th>Dystopia Residual</th>\n",
              "    </tr>\n",
              "  </thead>\n",
              "  <tbody>\n",
              "    <tr>\n",
              "      <th>0</th>\n",
              "      <td>Switzerland</td>\n",
              "      <td>Western Europe</td>\n",
              "      <td>1</td>\n",
              "      <td>7.587</td>\n",
              "      <td>0.03411</td>\n",
              "      <td>1.39651</td>\n",
              "      <td>1.34951</td>\n",
              "      <td>0.94143</td>\n",
              "      <td>0.66557</td>\n",
              "      <td>0.41978</td>\n",
              "      <td>0.29678</td>\n",
              "      <td>2.51738</td>\n",
              "    </tr>\n",
              "    <tr>\n",
              "      <th>1</th>\n",
              "      <td>Iceland</td>\n",
              "      <td>Western Europe</td>\n",
              "      <td>2</td>\n",
              "      <td>7.561</td>\n",
              "      <td>0.04884</td>\n",
              "      <td>1.30232</td>\n",
              "      <td>1.40223</td>\n",
              "      <td>0.94784</td>\n",
              "      <td>0.62877</td>\n",
              "      <td>0.14145</td>\n",
              "      <td>0.43630</td>\n",
              "      <td>2.70201</td>\n",
              "    </tr>\n",
              "    <tr>\n",
              "      <th>2</th>\n",
              "      <td>Denmark</td>\n",
              "      <td>Western Europe</td>\n",
              "      <td>3</td>\n",
              "      <td>7.527</td>\n",
              "      <td>0.03328</td>\n",
              "      <td>1.32548</td>\n",
              "      <td>1.36058</td>\n",
              "      <td>0.87464</td>\n",
              "      <td>0.64938</td>\n",
              "      <td>0.48357</td>\n",
              "      <td>0.34139</td>\n",
              "      <td>2.49204</td>\n",
              "    </tr>\n",
              "    <tr>\n",
              "      <th>3</th>\n",
              "      <td>Norway</td>\n",
              "      <td>Western Europe</td>\n",
              "      <td>4</td>\n",
              "      <td>7.522</td>\n",
              "      <td>0.03880</td>\n",
              "      <td>1.45900</td>\n",
              "      <td>1.33095</td>\n",
              "      <td>0.88521</td>\n",
              "      <td>0.66973</td>\n",
              "      <td>0.36503</td>\n",
              "      <td>0.34699</td>\n",
              "      <td>2.46531</td>\n",
              "    </tr>\n",
              "    <tr>\n",
              "      <th>4</th>\n",
              "      <td>Canada</td>\n",
              "      <td>North America</td>\n",
              "      <td>5</td>\n",
              "      <td>7.427</td>\n",
              "      <td>0.03553</td>\n",
              "      <td>1.32629</td>\n",
              "      <td>1.32261</td>\n",
              "      <td>0.90563</td>\n",
              "      <td>0.63297</td>\n",
              "      <td>0.32957</td>\n",
              "      <td>0.45811</td>\n",
              "      <td>2.45176</td>\n",
              "    </tr>\n",
              "  </tbody>\n",
              "</table>\n",
              "</div>\n",
              "      <button class=\"colab-df-convert\" onclick=\"convertToInteractive('df-07cc5d8b-31cb-4d88-a14d-8de6ea50cce2')\"\n",
              "              title=\"Convert this dataframe to an interactive table.\"\n",
              "              style=\"display:none;\">\n",
              "        \n",
              "  <svg xmlns=\"http://www.w3.org/2000/svg\" height=\"24px\"viewBox=\"0 0 24 24\"\n",
              "       width=\"24px\">\n",
              "    <path d=\"M0 0h24v24H0V0z\" fill=\"none\"/>\n",
              "    <path d=\"M18.56 5.44l.94 2.06.94-2.06 2.06-.94-2.06-.94-.94-2.06-.94 2.06-2.06.94zm-11 1L8.5 8.5l.94-2.06 2.06-.94-2.06-.94L8.5 2.5l-.94 2.06-2.06.94zm10 10l.94 2.06.94-2.06 2.06-.94-2.06-.94-.94-2.06-.94 2.06-2.06.94z\"/><path d=\"M17.41 7.96l-1.37-1.37c-.4-.4-.92-.59-1.43-.59-.52 0-1.04.2-1.43.59L10.3 9.45l-7.72 7.72c-.78.78-.78 2.05 0 2.83L4 21.41c.39.39.9.59 1.41.59.51 0 1.02-.2 1.41-.59l7.78-7.78 2.81-2.81c.8-.78.8-2.07 0-2.86zM5.41 20L4 18.59l7.72-7.72 1.47 1.35L5.41 20z\"/>\n",
              "  </svg>\n",
              "      </button>\n",
              "      \n",
              "  <style>\n",
              "    .colab-df-container {\n",
              "      display:flex;\n",
              "      flex-wrap:wrap;\n",
              "      gap: 12px;\n",
              "    }\n",
              "\n",
              "    .colab-df-convert {\n",
              "      background-color: #E8F0FE;\n",
              "      border: none;\n",
              "      border-radius: 50%;\n",
              "      cursor: pointer;\n",
              "      display: none;\n",
              "      fill: #1967D2;\n",
              "      height: 32px;\n",
              "      padding: 0 0 0 0;\n",
              "      width: 32px;\n",
              "    }\n",
              "\n",
              "    .colab-df-convert:hover {\n",
              "      background-color: #E2EBFA;\n",
              "      box-shadow: 0px 1px 2px rgba(60, 64, 67, 0.3), 0px 1px 3px 1px rgba(60, 64, 67, 0.15);\n",
              "      fill: #174EA6;\n",
              "    }\n",
              "\n",
              "    [theme=dark] .colab-df-convert {\n",
              "      background-color: #3B4455;\n",
              "      fill: #D2E3FC;\n",
              "    }\n",
              "\n",
              "    [theme=dark] .colab-df-convert:hover {\n",
              "      background-color: #434B5C;\n",
              "      box-shadow: 0px 1px 3px 1px rgba(0, 0, 0, 0.15);\n",
              "      filter: drop-shadow(0px 1px 2px rgba(0, 0, 0, 0.3));\n",
              "      fill: #FFFFFF;\n",
              "    }\n",
              "  </style>\n",
              "\n",
              "      <script>\n",
              "        const buttonEl =\n",
              "          document.querySelector('#df-07cc5d8b-31cb-4d88-a14d-8de6ea50cce2 button.colab-df-convert');\n",
              "        buttonEl.style.display =\n",
              "          google.colab.kernel.accessAllowed ? 'block' : 'none';\n",
              "\n",
              "        async function convertToInteractive(key) {\n",
              "          const element = document.querySelector('#df-07cc5d8b-31cb-4d88-a14d-8de6ea50cce2');\n",
              "          const dataTable =\n",
              "            await google.colab.kernel.invokeFunction('convertToInteractive',\n",
              "                                                     [key], {});\n",
              "          if (!dataTable) return;\n",
              "\n",
              "          const docLinkHtml = 'Like what you see? Visit the ' +\n",
              "            '<a target=\"_blank\" href=https://colab.research.google.com/notebooks/data_table.ipynb>data table notebook</a>'\n",
              "            + ' to learn more about interactive tables.';\n",
              "          element.innerHTML = '';\n",
              "          dataTable['output_type'] = 'display_data';\n",
              "          await google.colab.output.renderOutput(dataTable, element);\n",
              "          const docLink = document.createElement('div');\n",
              "          docLink.innerHTML = docLinkHtml;\n",
              "          element.appendChild(docLink);\n",
              "        }\n",
              "      </script>\n",
              "    </div>\n",
              "  </div>\n",
              "  "
            ]
          },
          "metadata": {},
          "execution_count": 2
        }
      ],
      "source": [
        "happiness = pd.read_csv(\"https://www.cs.colostate.edu/~asa/courses/dsci235/spr21/data/2015.csv\")\n",
        "happiness.head()"
      ]
    },
    {
      "cell_type": "markdown",
      "metadata": {
        "id": "wk-51Vm_JV9Q"
      },
      "source": [
        "Countries belong to the following regions:"
      ]
    },
    {
      "cell_type": "code",
      "execution_count": 3,
      "metadata": {
        "colab": {
          "base_uri": "https://localhost:8080/"
        },
        "id": "zdDrL0G5JV9Q",
        "outputId": "e635ad35-614f-4097-a96d-70950c1b58d1"
      },
      "outputs": [
        {
          "output_type": "execute_result",
          "data": {
            "text/plain": [
              "array(['Western Europe', 'North America', 'Australia and New Zealand',\n",
              "       'Middle East and Northern Africa', 'Latin America and Caribbean',\n",
              "       'Southeastern Asia', 'Central and Eastern Europe', 'Eastern Asia',\n",
              "       'Sub-Saharan Africa', 'Southern Asia'], dtype=object)"
            ]
          },
          "metadata": {},
          "execution_count": 3
        }
      ],
      "source": [
        "happiness['Region'].unique()"
      ]
    },
    {
      "cell_type": "markdown",
      "metadata": {
        "id": "QLIm4ZvpJV9R"
      },
      "source": [
        "Using this data answer the following:"
      ]
    },
    {
      "cell_type": "markdown",
      "metadata": {
        "id": "bDIAHlcKJV9S"
      },
      "source": [
        "* Which nation is the happiest among the nations of Latin America and the Caribbean? What is that country's happiness rank?"
      ]
    },
    {
      "cell_type": "code",
      "execution_count": 8,
      "metadata": {
        "colab": {
          "base_uri": "https://localhost:8080/",
          "height": 159
        },
        "id": "V3ZzBycfJV9S",
        "outputId": "7c039a2f-391c-4d3b-853d-466335a4e4f1"
      },
      "outputs": [
        {
          "output_type": "execute_result",
          "data": {
            "text/plain": [
              "       Country                       Region  Happiness Rank  Happiness Score  \\\n",
              "11  Costa Rica  Latin America and Caribbean              12            7.226   \n",
              "\n",
              "    Standard Error  Economy (GDP per Capita)   Family  \\\n",
              "11         0.04454                   0.95578  1.23788   \n",
              "\n",
              "    Health (Life Expectancy)  Freedom  Trust (Government Corruption)  \\\n",
              "11                   0.86027  0.63376                        0.10583   \n",
              "\n",
              "    Generosity  Dystopia Residual  \n",
              "11     0.25497            3.17728  "
            ],
            "text/html": [
              "\n",
              "  <div id=\"df-56015b2b-df9f-4096-b317-d0820874edb4\">\n",
              "    <div class=\"colab-df-container\">\n",
              "      <div>\n",
              "<style scoped>\n",
              "    .dataframe tbody tr th:only-of-type {\n",
              "        vertical-align: middle;\n",
              "    }\n",
              "\n",
              "    .dataframe tbody tr th {\n",
              "        vertical-align: top;\n",
              "    }\n",
              "\n",
              "    .dataframe thead th {\n",
              "        text-align: right;\n",
              "    }\n",
              "</style>\n",
              "<table border=\"1\" class=\"dataframe\">\n",
              "  <thead>\n",
              "    <tr style=\"text-align: right;\">\n",
              "      <th></th>\n",
              "      <th>Country</th>\n",
              "      <th>Region</th>\n",
              "      <th>Happiness Rank</th>\n",
              "      <th>Happiness Score</th>\n",
              "      <th>Standard Error</th>\n",
              "      <th>Economy (GDP per Capita)</th>\n",
              "      <th>Family</th>\n",
              "      <th>Health (Life Expectancy)</th>\n",
              "      <th>Freedom</th>\n",
              "      <th>Trust (Government Corruption)</th>\n",
              "      <th>Generosity</th>\n",
              "      <th>Dystopia Residual</th>\n",
              "    </tr>\n",
              "  </thead>\n",
              "  <tbody>\n",
              "    <tr>\n",
              "      <th>11</th>\n",
              "      <td>Costa Rica</td>\n",
              "      <td>Latin America and Caribbean</td>\n",
              "      <td>12</td>\n",
              "      <td>7.226</td>\n",
              "      <td>0.04454</td>\n",
              "      <td>0.95578</td>\n",
              "      <td>1.23788</td>\n",
              "      <td>0.86027</td>\n",
              "      <td>0.63376</td>\n",
              "      <td>0.10583</td>\n",
              "      <td>0.25497</td>\n",
              "      <td>3.17728</td>\n",
              "    </tr>\n",
              "  </tbody>\n",
              "</table>\n",
              "</div>\n",
              "      <button class=\"colab-df-convert\" onclick=\"convertToInteractive('df-56015b2b-df9f-4096-b317-d0820874edb4')\"\n",
              "              title=\"Convert this dataframe to an interactive table.\"\n",
              "              style=\"display:none;\">\n",
              "        \n",
              "  <svg xmlns=\"http://www.w3.org/2000/svg\" height=\"24px\"viewBox=\"0 0 24 24\"\n",
              "       width=\"24px\">\n",
              "    <path d=\"M0 0h24v24H0V0z\" fill=\"none\"/>\n",
              "    <path d=\"M18.56 5.44l.94 2.06.94-2.06 2.06-.94-2.06-.94-.94-2.06-.94 2.06-2.06.94zm-11 1L8.5 8.5l.94-2.06 2.06-.94-2.06-.94L8.5 2.5l-.94 2.06-2.06.94zm10 10l.94 2.06.94-2.06 2.06-.94-2.06-.94-.94-2.06-.94 2.06-2.06.94z\"/><path d=\"M17.41 7.96l-1.37-1.37c-.4-.4-.92-.59-1.43-.59-.52 0-1.04.2-1.43.59L10.3 9.45l-7.72 7.72c-.78.78-.78 2.05 0 2.83L4 21.41c.39.39.9.59 1.41.59.51 0 1.02-.2 1.41-.59l7.78-7.78 2.81-2.81c.8-.78.8-2.07 0-2.86zM5.41 20L4 18.59l7.72-7.72 1.47 1.35L5.41 20z\"/>\n",
              "  </svg>\n",
              "      </button>\n",
              "      \n",
              "  <style>\n",
              "    .colab-df-container {\n",
              "      display:flex;\n",
              "      flex-wrap:wrap;\n",
              "      gap: 12px;\n",
              "    }\n",
              "\n",
              "    .colab-df-convert {\n",
              "      background-color: #E8F0FE;\n",
              "      border: none;\n",
              "      border-radius: 50%;\n",
              "      cursor: pointer;\n",
              "      display: none;\n",
              "      fill: #1967D2;\n",
              "      height: 32px;\n",
              "      padding: 0 0 0 0;\n",
              "      width: 32px;\n",
              "    }\n",
              "\n",
              "    .colab-df-convert:hover {\n",
              "      background-color: #E2EBFA;\n",
              "      box-shadow: 0px 1px 2px rgba(60, 64, 67, 0.3), 0px 1px 3px 1px rgba(60, 64, 67, 0.15);\n",
              "      fill: #174EA6;\n",
              "    }\n",
              "\n",
              "    [theme=dark] .colab-df-convert {\n",
              "      background-color: #3B4455;\n",
              "      fill: #D2E3FC;\n",
              "    }\n",
              "\n",
              "    [theme=dark] .colab-df-convert:hover {\n",
              "      background-color: #434B5C;\n",
              "      box-shadow: 0px 1px 3px 1px rgba(0, 0, 0, 0.15);\n",
              "      filter: drop-shadow(0px 1px 2px rgba(0, 0, 0, 0.3));\n",
              "      fill: #FFFFFF;\n",
              "    }\n",
              "  </style>\n",
              "\n",
              "      <script>\n",
              "        const buttonEl =\n",
              "          document.querySelector('#df-56015b2b-df9f-4096-b317-d0820874edb4 button.colab-df-convert');\n",
              "        buttonEl.style.display =\n",
              "          google.colab.kernel.accessAllowed ? 'block' : 'none';\n",
              "\n",
              "        async function convertToInteractive(key) {\n",
              "          const element = document.querySelector('#df-56015b2b-df9f-4096-b317-d0820874edb4');\n",
              "          const dataTable =\n",
              "            await google.colab.kernel.invokeFunction('convertToInteractive',\n",
              "                                                     [key], {});\n",
              "          if (!dataTable) return;\n",
              "\n",
              "          const docLinkHtml = 'Like what you see? Visit the ' +\n",
              "            '<a target=\"_blank\" href=https://colab.research.google.com/notebooks/data_table.ipynb>data table notebook</a>'\n",
              "            + ' to learn more about interactive tables.';\n",
              "          element.innerHTML = '';\n",
              "          dataTable['output_type'] = 'display_data';\n",
              "          await google.colab.output.renderOutput(dataTable, element);\n",
              "          const docLink = document.createElement('div');\n",
              "          docLink.innerHTML = docLinkHtml;\n",
              "          element.appendChild(docLink);\n",
              "        }\n",
              "      </script>\n",
              "    </div>\n",
              "  </div>\n",
              "  "
            ]
          },
          "metadata": {},
          "execution_count": 8
        }
      ],
      "source": [
        "happiness[(happiness['Region'] == \"Latin America and Caribbean\")].sort_values('Happiness Score', ascending = False).head(1)"
      ]
    },
    {
      "cell_type": "markdown",
      "source": [
        "Costa Rica is happiest in Latin America and Caribbean with a hapiness score of 7.2 and rank of 12."
      ],
      "metadata": {
        "id": "SR03TwweKGtl"
      }
    },
    {
      "cell_type": "markdown",
      "metadata": {
        "id": "q8-r6uCKJV9S"
      },
      "source": [
        "* How many countries have a happiness score above 7?"
      ]
    },
    {
      "cell_type": "code",
      "execution_count": 10,
      "metadata": {
        "colab": {
          "base_uri": "https://localhost:8080/"
        },
        "id": "VcqDjgwyJV9T",
        "outputId": "d69216d2-94d3-4a34-acda-c2ad0105c171"
      },
      "outputs": [
        {
          "output_type": "execute_result",
          "data": {
            "text/plain": [
              "15"
            ]
          },
          "metadata": {},
          "execution_count": 10
        }
      ],
      "source": [
        "len(happiness[(happiness['Happiness Score'] > 7)])"
      ]
    },
    {
      "cell_type": "markdown",
      "source": [
        "There are 15 countries with a happiness score above 7."
      ],
      "metadata": {
        "id": "lCwPb3zBKVqw"
      }
    },
    {
      "cell_type": "markdown",
      "metadata": {
        "id": "kVyhjUcUJV9T"
      },
      "source": [
        "* Compute the mean happiness score for each region."
      ]
    },
    {
      "cell_type": "code",
      "execution_count": 13,
      "metadata": {
        "colab": {
          "base_uri": "https://localhost:8080/"
        },
        "id": "uBRYHVfsJV9U",
        "outputId": "bcc03c57-a113-4f94-8782-7eb3bc82db5d"
      },
      "outputs": [
        {
          "output_type": "execute_result",
          "data": {
            "text/plain": [
              "Region\n",
              "Australia and New Zealand          7.285000\n",
              "Central and Eastern Europe         5.332931\n",
              "Eastern Asia                       5.626167\n",
              "Latin America and Caribbean        6.144682\n",
              "Middle East and Northern Africa    5.406900\n",
              "North America                      7.273000\n",
              "Southeastern Asia                  5.317444\n",
              "Southern Asia                      4.580857\n",
              "Sub-Saharan Africa                 4.202800\n",
              "Western Europe                     6.689619\n",
              "Name: Happiness Score, dtype: float64"
            ]
          },
          "metadata": {},
          "execution_count": 13
        }
      ],
      "source": [
        "happiness.groupby('Region')['Happiness Score'].mean()"
      ]
    },
    {
      "cell_type": "markdown",
      "metadata": {
        "id": "7g3LR2vUJV9U"
      },
      "source": [
        "* For each region we will define the happiness spread as the maximum happiness score in that region minus the minimum happiness score in that region.  For example, for the region of *Australia and New Zealand* the spread is 0.002 (the happiness score of New Zealand - the happiness score of Australia).  Compute the happiness spread for all regions."
      ]
    },
    {
      "cell_type": "code",
      "execution_count": 21,
      "metadata": {
        "colab": {
          "base_uri": "https://localhost:8080/"
        },
        "id": "P3bHtqcGJV9U",
        "outputId": "42b3f639-b718-4e52-ef93-f2ad883943bb"
      },
      "outputs": [
        {
          "output_type": "execute_result",
          "data": {
            "text/plain": [
              "Region\n",
              "Australia and New Zealand          0.002\n",
              "Central and Eastern Europe         2.287\n",
              "Eastern Asia                       1.424\n",
              "Latin America and Caribbean        2.708\n",
              "Middle East and Northern Africa    4.272\n",
              "North America                      0.308\n",
              "Southeastern Asia                  2.979\n",
              "Southern Asia                      1.678\n",
              "Sub-Saharan Africa                 2.638\n",
              "Western Europe                     2.730\n",
              "Name: Happiness Score, dtype: float64"
            ]
          },
          "metadata": {},
          "execution_count": 21
        }
      ],
      "source": [
        "min = happiness.groupby('Region')['Happiness Score'].min()\n",
        "max = happiness.groupby('Region')['Happiness Score'].max()\n",
        "max - min"
      ]
    },
    {
      "cell_type": "markdown",
      "metadata": {
        "id": "OOhaSGlDJV9V"
      },
      "source": [
        "## Part 2: Analyzing movie ratings\n",
        "\n",
        "For the following questions we will use a dataset that provides information on movie ratings.\n",
        "\n",
        "The data comes in two files:  \"movies.dat\", which describes the movies, and \"ratings.dat\" which provides the movie ratings.\n",
        "\n",
        "The following commands will read the data into pandas DataFrames:"
      ]
    },
    {
      "cell_type": "code",
      "execution_count": 22,
      "metadata": {
        "colab": {
          "base_uri": "https://localhost:8080/",
          "height": 206
        },
        "id": "YSnigjdqJV9W",
        "outputId": "a658efe3-23b5-403f-85ef-0d9a14043e36"
      },
      "outputs": [
        {
          "output_type": "execute_result",
          "data": {
            "text/plain": [
              "   movie_id                               title                        genres\n",
              "0         1                    Toy Story (1995)   Animation|Children's|Comedy\n",
              "1         2                      Jumanji (1995)  Adventure|Children's|Fantasy\n",
              "2         3             Grumpier Old Men (1995)                Comedy|Romance\n",
              "3         4            Waiting to Exhale (1995)                  Comedy|Drama\n",
              "4         5  Father of the Bride Part II (1995)                        Comedy"
            ],
            "text/html": [
              "\n",
              "  <div id=\"df-e5a7ba2f-9d6d-4ab9-899d-3852407db1bd\">\n",
              "    <div class=\"colab-df-container\">\n",
              "      <div>\n",
              "<style scoped>\n",
              "    .dataframe tbody tr th:only-of-type {\n",
              "        vertical-align: middle;\n",
              "    }\n",
              "\n",
              "    .dataframe tbody tr th {\n",
              "        vertical-align: top;\n",
              "    }\n",
              "\n",
              "    .dataframe thead th {\n",
              "        text-align: right;\n",
              "    }\n",
              "</style>\n",
              "<table border=\"1\" class=\"dataframe\">\n",
              "  <thead>\n",
              "    <tr style=\"text-align: right;\">\n",
              "      <th></th>\n",
              "      <th>movie_id</th>\n",
              "      <th>title</th>\n",
              "      <th>genres</th>\n",
              "    </tr>\n",
              "  </thead>\n",
              "  <tbody>\n",
              "    <tr>\n",
              "      <th>0</th>\n",
              "      <td>1</td>\n",
              "      <td>Toy Story (1995)</td>\n",
              "      <td>Animation|Children's|Comedy</td>\n",
              "    </tr>\n",
              "    <tr>\n",
              "      <th>1</th>\n",
              "      <td>2</td>\n",
              "      <td>Jumanji (1995)</td>\n",
              "      <td>Adventure|Children's|Fantasy</td>\n",
              "    </tr>\n",
              "    <tr>\n",
              "      <th>2</th>\n",
              "      <td>3</td>\n",
              "      <td>Grumpier Old Men (1995)</td>\n",
              "      <td>Comedy|Romance</td>\n",
              "    </tr>\n",
              "    <tr>\n",
              "      <th>3</th>\n",
              "      <td>4</td>\n",
              "      <td>Waiting to Exhale (1995)</td>\n",
              "      <td>Comedy|Drama</td>\n",
              "    </tr>\n",
              "    <tr>\n",
              "      <th>4</th>\n",
              "      <td>5</td>\n",
              "      <td>Father of the Bride Part II (1995)</td>\n",
              "      <td>Comedy</td>\n",
              "    </tr>\n",
              "  </tbody>\n",
              "</table>\n",
              "</div>\n",
              "      <button class=\"colab-df-convert\" onclick=\"convertToInteractive('df-e5a7ba2f-9d6d-4ab9-899d-3852407db1bd')\"\n",
              "              title=\"Convert this dataframe to an interactive table.\"\n",
              "              style=\"display:none;\">\n",
              "        \n",
              "  <svg xmlns=\"http://www.w3.org/2000/svg\" height=\"24px\"viewBox=\"0 0 24 24\"\n",
              "       width=\"24px\">\n",
              "    <path d=\"M0 0h24v24H0V0z\" fill=\"none\"/>\n",
              "    <path d=\"M18.56 5.44l.94 2.06.94-2.06 2.06-.94-2.06-.94-.94-2.06-.94 2.06-2.06.94zm-11 1L8.5 8.5l.94-2.06 2.06-.94-2.06-.94L8.5 2.5l-.94 2.06-2.06.94zm10 10l.94 2.06.94-2.06 2.06-.94-2.06-.94-.94-2.06-.94 2.06-2.06.94z\"/><path d=\"M17.41 7.96l-1.37-1.37c-.4-.4-.92-.59-1.43-.59-.52 0-1.04.2-1.43.59L10.3 9.45l-7.72 7.72c-.78.78-.78 2.05 0 2.83L4 21.41c.39.39.9.59 1.41.59.51 0 1.02-.2 1.41-.59l7.78-7.78 2.81-2.81c.8-.78.8-2.07 0-2.86zM5.41 20L4 18.59l7.72-7.72 1.47 1.35L5.41 20z\"/>\n",
              "  </svg>\n",
              "      </button>\n",
              "      \n",
              "  <style>\n",
              "    .colab-df-container {\n",
              "      display:flex;\n",
              "      flex-wrap:wrap;\n",
              "      gap: 12px;\n",
              "    }\n",
              "\n",
              "    .colab-df-convert {\n",
              "      background-color: #E8F0FE;\n",
              "      border: none;\n",
              "      border-radius: 50%;\n",
              "      cursor: pointer;\n",
              "      display: none;\n",
              "      fill: #1967D2;\n",
              "      height: 32px;\n",
              "      padding: 0 0 0 0;\n",
              "      width: 32px;\n",
              "    }\n",
              "\n",
              "    .colab-df-convert:hover {\n",
              "      background-color: #E2EBFA;\n",
              "      box-shadow: 0px 1px 2px rgba(60, 64, 67, 0.3), 0px 1px 3px 1px rgba(60, 64, 67, 0.15);\n",
              "      fill: #174EA6;\n",
              "    }\n",
              "\n",
              "    [theme=dark] .colab-df-convert {\n",
              "      background-color: #3B4455;\n",
              "      fill: #D2E3FC;\n",
              "    }\n",
              "\n",
              "    [theme=dark] .colab-df-convert:hover {\n",
              "      background-color: #434B5C;\n",
              "      box-shadow: 0px 1px 3px 1px rgba(0, 0, 0, 0.15);\n",
              "      filter: drop-shadow(0px 1px 2px rgba(0, 0, 0, 0.3));\n",
              "      fill: #FFFFFF;\n",
              "    }\n",
              "  </style>\n",
              "\n",
              "      <script>\n",
              "        const buttonEl =\n",
              "          document.querySelector('#df-e5a7ba2f-9d6d-4ab9-899d-3852407db1bd button.colab-df-convert');\n",
              "        buttonEl.style.display =\n",
              "          google.colab.kernel.accessAllowed ? 'block' : 'none';\n",
              "\n",
              "        async function convertToInteractive(key) {\n",
              "          const element = document.querySelector('#df-e5a7ba2f-9d6d-4ab9-899d-3852407db1bd');\n",
              "          const dataTable =\n",
              "            await google.colab.kernel.invokeFunction('convertToInteractive',\n",
              "                                                     [key], {});\n",
              "          if (!dataTable) return;\n",
              "\n",
              "          const docLinkHtml = 'Like what you see? Visit the ' +\n",
              "            '<a target=\"_blank\" href=https://colab.research.google.com/notebooks/data_table.ipynb>data table notebook</a>'\n",
              "            + ' to learn more about interactive tables.';\n",
              "          element.innerHTML = '';\n",
              "          dataTable['output_type'] = 'display_data';\n",
              "          await google.colab.output.renderOutput(dataTable, element);\n",
              "          const docLink = document.createElement('div');\n",
              "          docLink.innerHTML = docLinkHtml;\n",
              "          element.appendChild(docLink);\n",
              "        }\n",
              "      </script>\n",
              "    </div>\n",
              "  </div>\n",
              "  "
            ]
          },
          "metadata": {},
          "execution_count": 22
        }
      ],
      "source": [
        "movies=pd.read_csv('https://www.cs.colostate.edu/~asa/courses/dsci235/spr21/data/movies.dat', sep='::', engine='python', header=None, names=['movie_id', 'title', 'genres'])\n",
        "movies.head()"
      ]
    },
    {
      "cell_type": "markdown",
      "metadata": {
        "id": "neLsmxqqJV9W"
      },
      "source": [
        "The movies DataFrame we just read has the following information:\n",
        "\n",
        "- movie_id: an integer between 1 and 3952\n",
        "- Titles are identical to titles provided by IMDB (including year of release)\n",
        "- Genres are pipe-separated (we'll ignore them in this work).\n",
        "\n",
        "Next we will read the ratings data, which contains the following information:\n",
        "\n",
        "- user_id:  an integer in the range between 1 and 6040 \n",
        "- movie_id: an integer between 1 and 3952\n",
        "- rating:  Ratings are on a 5-star scale (whole-star ratings only)\n",
        "- time_stamp is represented in seconds as returned by Unix `time` command.\n"
      ]
    },
    {
      "cell_type": "code",
      "execution_count": 25,
      "metadata": {
        "colab": {
          "base_uri": "https://localhost:8080/",
          "height": 424
        },
        "id": "orlE3pSFJV9X",
        "outputId": "14b45523-e714-473a-cf52-01b04f6c17ea"
      },
      "outputs": [
        {
          "output_type": "execute_result",
          "data": {
            "text/plain": [
              "       user_id  movie_id  rating  time_stamp\n",
              "0            1      1193       5   978300760\n",
              "1            1       661       3   978302109\n",
              "2            1       914       3   978301968\n",
              "3            1      3408       4   978300275\n",
              "4            1      2355       5   978824291\n",
              "...        ...       ...     ...         ...\n",
              "99995      669       585       4   975631958\n",
              "99996      669       586       3   975631958\n",
              "99997      669       587       3   975631938\n",
              "99998      669       588       4   975631606\n",
              "99999      669       589       5   975633871\n",
              "\n",
              "[100000 rows x 4 columns]"
            ],
            "text/html": [
              "\n",
              "  <div id=\"df-b51609a8-998d-4055-8065-b6a54235a3d7\">\n",
              "    <div class=\"colab-df-container\">\n",
              "      <div>\n",
              "<style scoped>\n",
              "    .dataframe tbody tr th:only-of-type {\n",
              "        vertical-align: middle;\n",
              "    }\n",
              "\n",
              "    .dataframe tbody tr th {\n",
              "        vertical-align: top;\n",
              "    }\n",
              "\n",
              "    .dataframe thead th {\n",
              "        text-align: right;\n",
              "    }\n",
              "</style>\n",
              "<table border=\"1\" class=\"dataframe\">\n",
              "  <thead>\n",
              "    <tr style=\"text-align: right;\">\n",
              "      <th></th>\n",
              "      <th>user_id</th>\n",
              "      <th>movie_id</th>\n",
              "      <th>rating</th>\n",
              "      <th>time_stamp</th>\n",
              "    </tr>\n",
              "  </thead>\n",
              "  <tbody>\n",
              "    <tr>\n",
              "      <th>0</th>\n",
              "      <td>1</td>\n",
              "      <td>1193</td>\n",
              "      <td>5</td>\n",
              "      <td>978300760</td>\n",
              "    </tr>\n",
              "    <tr>\n",
              "      <th>1</th>\n",
              "      <td>1</td>\n",
              "      <td>661</td>\n",
              "      <td>3</td>\n",
              "      <td>978302109</td>\n",
              "    </tr>\n",
              "    <tr>\n",
              "      <th>2</th>\n",
              "      <td>1</td>\n",
              "      <td>914</td>\n",
              "      <td>3</td>\n",
              "      <td>978301968</td>\n",
              "    </tr>\n",
              "    <tr>\n",
              "      <th>3</th>\n",
              "      <td>1</td>\n",
              "      <td>3408</td>\n",
              "      <td>4</td>\n",
              "      <td>978300275</td>\n",
              "    </tr>\n",
              "    <tr>\n",
              "      <th>4</th>\n",
              "      <td>1</td>\n",
              "      <td>2355</td>\n",
              "      <td>5</td>\n",
              "      <td>978824291</td>\n",
              "    </tr>\n",
              "    <tr>\n",
              "      <th>...</th>\n",
              "      <td>...</td>\n",
              "      <td>...</td>\n",
              "      <td>...</td>\n",
              "      <td>...</td>\n",
              "    </tr>\n",
              "    <tr>\n",
              "      <th>99995</th>\n",
              "      <td>669</td>\n",
              "      <td>585</td>\n",
              "      <td>4</td>\n",
              "      <td>975631958</td>\n",
              "    </tr>\n",
              "    <tr>\n",
              "      <th>99996</th>\n",
              "      <td>669</td>\n",
              "      <td>586</td>\n",
              "      <td>3</td>\n",
              "      <td>975631958</td>\n",
              "    </tr>\n",
              "    <tr>\n",
              "      <th>99997</th>\n",
              "      <td>669</td>\n",
              "      <td>587</td>\n",
              "      <td>3</td>\n",
              "      <td>975631938</td>\n",
              "    </tr>\n",
              "    <tr>\n",
              "      <th>99998</th>\n",
              "      <td>669</td>\n",
              "      <td>588</td>\n",
              "      <td>4</td>\n",
              "      <td>975631606</td>\n",
              "    </tr>\n",
              "    <tr>\n",
              "      <th>99999</th>\n",
              "      <td>669</td>\n",
              "      <td>589</td>\n",
              "      <td>5</td>\n",
              "      <td>975633871</td>\n",
              "    </tr>\n",
              "  </tbody>\n",
              "</table>\n",
              "<p>100000 rows × 4 columns</p>\n",
              "</div>\n",
              "      <button class=\"colab-df-convert\" onclick=\"convertToInteractive('df-b51609a8-998d-4055-8065-b6a54235a3d7')\"\n",
              "              title=\"Convert this dataframe to an interactive table.\"\n",
              "              style=\"display:none;\">\n",
              "        \n",
              "  <svg xmlns=\"http://www.w3.org/2000/svg\" height=\"24px\"viewBox=\"0 0 24 24\"\n",
              "       width=\"24px\">\n",
              "    <path d=\"M0 0h24v24H0V0z\" fill=\"none\"/>\n",
              "    <path d=\"M18.56 5.44l.94 2.06.94-2.06 2.06-.94-2.06-.94-.94-2.06-.94 2.06-2.06.94zm-11 1L8.5 8.5l.94-2.06 2.06-.94-2.06-.94L8.5 2.5l-.94 2.06-2.06.94zm10 10l.94 2.06.94-2.06 2.06-.94-2.06-.94-.94-2.06-.94 2.06-2.06.94z\"/><path d=\"M17.41 7.96l-1.37-1.37c-.4-.4-.92-.59-1.43-.59-.52 0-1.04.2-1.43.59L10.3 9.45l-7.72 7.72c-.78.78-.78 2.05 0 2.83L4 21.41c.39.39.9.59 1.41.59.51 0 1.02-.2 1.41-.59l7.78-7.78 2.81-2.81c.8-.78.8-2.07 0-2.86zM5.41 20L4 18.59l7.72-7.72 1.47 1.35L5.41 20z\"/>\n",
              "  </svg>\n",
              "      </button>\n",
              "      \n",
              "  <style>\n",
              "    .colab-df-container {\n",
              "      display:flex;\n",
              "      flex-wrap:wrap;\n",
              "      gap: 12px;\n",
              "    }\n",
              "\n",
              "    .colab-df-convert {\n",
              "      background-color: #E8F0FE;\n",
              "      border: none;\n",
              "      border-radius: 50%;\n",
              "      cursor: pointer;\n",
              "      display: none;\n",
              "      fill: #1967D2;\n",
              "      height: 32px;\n",
              "      padding: 0 0 0 0;\n",
              "      width: 32px;\n",
              "    }\n",
              "\n",
              "    .colab-df-convert:hover {\n",
              "      background-color: #E2EBFA;\n",
              "      box-shadow: 0px 1px 2px rgba(60, 64, 67, 0.3), 0px 1px 3px 1px rgba(60, 64, 67, 0.15);\n",
              "      fill: #174EA6;\n",
              "    }\n",
              "\n",
              "    [theme=dark] .colab-df-convert {\n",
              "      background-color: #3B4455;\n",
              "      fill: #D2E3FC;\n",
              "    }\n",
              "\n",
              "    [theme=dark] .colab-df-convert:hover {\n",
              "      background-color: #434B5C;\n",
              "      box-shadow: 0px 1px 3px 1px rgba(0, 0, 0, 0.15);\n",
              "      filter: drop-shadow(0px 1px 2px rgba(0, 0, 0, 0.3));\n",
              "      fill: #FFFFFF;\n",
              "    }\n",
              "  </style>\n",
              "\n",
              "      <script>\n",
              "        const buttonEl =\n",
              "          document.querySelector('#df-b51609a8-998d-4055-8065-b6a54235a3d7 button.colab-df-convert');\n",
              "        buttonEl.style.display =\n",
              "          google.colab.kernel.accessAllowed ? 'block' : 'none';\n",
              "\n",
              "        async function convertToInteractive(key) {\n",
              "          const element = document.querySelector('#df-b51609a8-998d-4055-8065-b6a54235a3d7');\n",
              "          const dataTable =\n",
              "            await google.colab.kernel.invokeFunction('convertToInteractive',\n",
              "                                                     [key], {});\n",
              "          if (!dataTable) return;\n",
              "\n",
              "          const docLinkHtml = 'Like what you see? Visit the ' +\n",
              "            '<a target=\"_blank\" href=https://colab.research.google.com/notebooks/data_table.ipynb>data table notebook</a>'\n",
              "            + ' to learn more about interactive tables.';\n",
              "          element.innerHTML = '';\n",
              "          dataTable['output_type'] = 'display_data';\n",
              "          await google.colab.output.renderOutput(dataTable, element);\n",
              "          const docLink = document.createElement('div');\n",
              "          docLink.innerHTML = docLinkHtml;\n",
              "          element.appendChild(docLink);\n",
              "        }\n",
              "      </script>\n",
              "    </div>\n",
              "  </div>\n",
              "  "
            ]
          },
          "metadata": {},
          "execution_count": 25
        }
      ],
      "source": [
        "ratings=pd.read_csv('https://www.cs.colostate.edu/~asa/courses/dsci235/spr21/data/ratings_subset.dat', sep='::', engine='python', header=None, names=['user_id', 'movie_id', 'rating', 'time_stamp'])\n",
        "ratings.head()"
      ]
    },
    {
      "cell_type": "markdown",
      "metadata": {
        "id": "pEpt8SuhJV9Y"
      },
      "source": [
        "Write pandas commands that answer the following questions:"
      ]
    },
    {
      "cell_type": "markdown",
      "metadata": {
        "id": "PwC1HnvsJV9Y"
      },
      "source": [
        "* The ratings DataFrame identifies movies by their id.  To obtain movie ratings by name, `merge` the two DataFrames (movies and ratings).  Perform an `inner` join when merging.  The resulting DataFrame might have fewer rows than the original ratings DataFrame.  Explain why this is the case."
      ]
    },
    {
      "cell_type": "code",
      "execution_count": 26,
      "metadata": {
        "colab": {
          "base_uri": "https://localhost:8080/",
          "height": 424
        },
        "id": "81BXZs0kJV9Z",
        "outputId": "7d281d9c-caba-4914-99c4-2a906b85b67f"
      },
      "outputs": [
        {
          "output_type": "execute_result",
          "data": {
            "text/plain": [
              "       movie_id             title                       genres  user_id  \\\n",
              "0             1  Toy Story (1995)  Animation|Children's|Comedy        1   \n",
              "1             1  Toy Story (1995)  Animation|Children's|Comedy        6   \n",
              "2             1  Toy Story (1995)  Animation|Children's|Comedy        8   \n",
              "3             1  Toy Story (1995)  Animation|Children's|Comedy        9   \n",
              "4             1  Toy Story (1995)  Animation|Children's|Comedy       10   \n",
              "...         ...               ...                          ...      ...   \n",
              "97615      3813  Interiors (1978)                        Drama      230   \n",
              "97616      3813  Interiors (1978)                        Drama      319   \n",
              "97617      3813  Interiors (1978)                        Drama      333   \n",
              "97618      3813  Interiors (1978)                        Drama      550   \n",
              "97619      3813  Interiors (1978)                        Drama      588   \n",
              "\n",
              "       rating  time_stamp  \n",
              "0           5   978824268  \n",
              "1           4   978237008  \n",
              "2           4   978233496  \n",
              "3           5   978225952  \n",
              "4           5   978226474  \n",
              "...       ...         ...  \n",
              "97615       4   976824650  \n",
              "97616       3  1002940959  \n",
              "97617       3   996355393  \n",
              "97618       3   976169951  \n",
              "97619       3   985648666  \n",
              "\n",
              "[97620 rows x 6 columns]"
            ],
            "text/html": [
              "\n",
              "  <div id=\"df-34dc38e8-d6f5-4a80-9d07-1cad02c91314\">\n",
              "    <div class=\"colab-df-container\">\n",
              "      <div>\n",
              "<style scoped>\n",
              "    .dataframe tbody tr th:only-of-type {\n",
              "        vertical-align: middle;\n",
              "    }\n",
              "\n",
              "    .dataframe tbody tr th {\n",
              "        vertical-align: top;\n",
              "    }\n",
              "\n",
              "    .dataframe thead th {\n",
              "        text-align: right;\n",
              "    }\n",
              "</style>\n",
              "<table border=\"1\" class=\"dataframe\">\n",
              "  <thead>\n",
              "    <tr style=\"text-align: right;\">\n",
              "      <th></th>\n",
              "      <th>movie_id</th>\n",
              "      <th>title</th>\n",
              "      <th>genres</th>\n",
              "      <th>user_id</th>\n",
              "      <th>rating</th>\n",
              "      <th>time_stamp</th>\n",
              "    </tr>\n",
              "  </thead>\n",
              "  <tbody>\n",
              "    <tr>\n",
              "      <th>0</th>\n",
              "      <td>1</td>\n",
              "      <td>Toy Story (1995)</td>\n",
              "      <td>Animation|Children's|Comedy</td>\n",
              "      <td>1</td>\n",
              "      <td>5</td>\n",
              "      <td>978824268</td>\n",
              "    </tr>\n",
              "    <tr>\n",
              "      <th>1</th>\n",
              "      <td>1</td>\n",
              "      <td>Toy Story (1995)</td>\n",
              "      <td>Animation|Children's|Comedy</td>\n",
              "      <td>6</td>\n",
              "      <td>4</td>\n",
              "      <td>978237008</td>\n",
              "    </tr>\n",
              "    <tr>\n",
              "      <th>2</th>\n",
              "      <td>1</td>\n",
              "      <td>Toy Story (1995)</td>\n",
              "      <td>Animation|Children's|Comedy</td>\n",
              "      <td>8</td>\n",
              "      <td>4</td>\n",
              "      <td>978233496</td>\n",
              "    </tr>\n",
              "    <tr>\n",
              "      <th>3</th>\n",
              "      <td>1</td>\n",
              "      <td>Toy Story (1995)</td>\n",
              "      <td>Animation|Children's|Comedy</td>\n",
              "      <td>9</td>\n",
              "      <td>5</td>\n",
              "      <td>978225952</td>\n",
              "    </tr>\n",
              "    <tr>\n",
              "      <th>4</th>\n",
              "      <td>1</td>\n",
              "      <td>Toy Story (1995)</td>\n",
              "      <td>Animation|Children's|Comedy</td>\n",
              "      <td>10</td>\n",
              "      <td>5</td>\n",
              "      <td>978226474</td>\n",
              "    </tr>\n",
              "    <tr>\n",
              "      <th>...</th>\n",
              "      <td>...</td>\n",
              "      <td>...</td>\n",
              "      <td>...</td>\n",
              "      <td>...</td>\n",
              "      <td>...</td>\n",
              "      <td>...</td>\n",
              "    </tr>\n",
              "    <tr>\n",
              "      <th>97615</th>\n",
              "      <td>3813</td>\n",
              "      <td>Interiors (1978)</td>\n",
              "      <td>Drama</td>\n",
              "      <td>230</td>\n",
              "      <td>4</td>\n",
              "      <td>976824650</td>\n",
              "    </tr>\n",
              "    <tr>\n",
              "      <th>97616</th>\n",
              "      <td>3813</td>\n",
              "      <td>Interiors (1978)</td>\n",
              "      <td>Drama</td>\n",
              "      <td>319</td>\n",
              "      <td>3</td>\n",
              "      <td>1002940959</td>\n",
              "    </tr>\n",
              "    <tr>\n",
              "      <th>97617</th>\n",
              "      <td>3813</td>\n",
              "      <td>Interiors (1978)</td>\n",
              "      <td>Drama</td>\n",
              "      <td>333</td>\n",
              "      <td>3</td>\n",
              "      <td>996355393</td>\n",
              "    </tr>\n",
              "    <tr>\n",
              "      <th>97618</th>\n",
              "      <td>3813</td>\n",
              "      <td>Interiors (1978)</td>\n",
              "      <td>Drama</td>\n",
              "      <td>550</td>\n",
              "      <td>3</td>\n",
              "      <td>976169951</td>\n",
              "    </tr>\n",
              "    <tr>\n",
              "      <th>97619</th>\n",
              "      <td>3813</td>\n",
              "      <td>Interiors (1978)</td>\n",
              "      <td>Drama</td>\n",
              "      <td>588</td>\n",
              "      <td>3</td>\n",
              "      <td>985648666</td>\n",
              "    </tr>\n",
              "  </tbody>\n",
              "</table>\n",
              "<p>97620 rows × 6 columns</p>\n",
              "</div>\n",
              "      <button class=\"colab-df-convert\" onclick=\"convertToInteractive('df-34dc38e8-d6f5-4a80-9d07-1cad02c91314')\"\n",
              "              title=\"Convert this dataframe to an interactive table.\"\n",
              "              style=\"display:none;\">\n",
              "        \n",
              "  <svg xmlns=\"http://www.w3.org/2000/svg\" height=\"24px\"viewBox=\"0 0 24 24\"\n",
              "       width=\"24px\">\n",
              "    <path d=\"M0 0h24v24H0V0z\" fill=\"none\"/>\n",
              "    <path d=\"M18.56 5.44l.94 2.06.94-2.06 2.06-.94-2.06-.94-.94-2.06-.94 2.06-2.06.94zm-11 1L8.5 8.5l.94-2.06 2.06-.94-2.06-.94L8.5 2.5l-.94 2.06-2.06.94zm10 10l.94 2.06.94-2.06 2.06-.94-2.06-.94-.94-2.06-.94 2.06-2.06.94z\"/><path d=\"M17.41 7.96l-1.37-1.37c-.4-.4-.92-.59-1.43-.59-.52 0-1.04.2-1.43.59L10.3 9.45l-7.72 7.72c-.78.78-.78 2.05 0 2.83L4 21.41c.39.39.9.59 1.41.59.51 0 1.02-.2 1.41-.59l7.78-7.78 2.81-2.81c.8-.78.8-2.07 0-2.86zM5.41 20L4 18.59l7.72-7.72 1.47 1.35L5.41 20z\"/>\n",
              "  </svg>\n",
              "      </button>\n",
              "      \n",
              "  <style>\n",
              "    .colab-df-container {\n",
              "      display:flex;\n",
              "      flex-wrap:wrap;\n",
              "      gap: 12px;\n",
              "    }\n",
              "\n",
              "    .colab-df-convert {\n",
              "      background-color: #E8F0FE;\n",
              "      border: none;\n",
              "      border-radius: 50%;\n",
              "      cursor: pointer;\n",
              "      display: none;\n",
              "      fill: #1967D2;\n",
              "      height: 32px;\n",
              "      padding: 0 0 0 0;\n",
              "      width: 32px;\n",
              "    }\n",
              "\n",
              "    .colab-df-convert:hover {\n",
              "      background-color: #E2EBFA;\n",
              "      box-shadow: 0px 1px 2px rgba(60, 64, 67, 0.3), 0px 1px 3px 1px rgba(60, 64, 67, 0.15);\n",
              "      fill: #174EA6;\n",
              "    }\n",
              "\n",
              "    [theme=dark] .colab-df-convert {\n",
              "      background-color: #3B4455;\n",
              "      fill: #D2E3FC;\n",
              "    }\n",
              "\n",
              "    [theme=dark] .colab-df-convert:hover {\n",
              "      background-color: #434B5C;\n",
              "      box-shadow: 0px 1px 3px 1px rgba(0, 0, 0, 0.15);\n",
              "      filter: drop-shadow(0px 1px 2px rgba(0, 0, 0, 0.3));\n",
              "      fill: #FFFFFF;\n",
              "    }\n",
              "  </style>\n",
              "\n",
              "      <script>\n",
              "        const buttonEl =\n",
              "          document.querySelector('#df-34dc38e8-d6f5-4a80-9d07-1cad02c91314 button.colab-df-convert');\n",
              "        buttonEl.style.display =\n",
              "          google.colab.kernel.accessAllowed ? 'block' : 'none';\n",
              "\n",
              "        async function convertToInteractive(key) {\n",
              "          const element = document.querySelector('#df-34dc38e8-d6f5-4a80-9d07-1cad02c91314');\n",
              "          const dataTable =\n",
              "            await google.colab.kernel.invokeFunction('convertToInteractive',\n",
              "                                                     [key], {});\n",
              "          if (!dataTable) return;\n",
              "\n",
              "          const docLinkHtml = 'Like what you see? Visit the ' +\n",
              "            '<a target=\"_blank\" href=https://colab.research.google.com/notebooks/data_table.ipynb>data table notebook</a>'\n",
              "            + ' to learn more about interactive tables.';\n",
              "          element.innerHTML = '';\n",
              "          dataTable['output_type'] = 'display_data';\n",
              "          await google.colab.output.renderOutput(dataTable, element);\n",
              "          const docLink = document.createElement('div');\n",
              "          docLink.innerHTML = docLinkHtml;\n",
              "          element.appendChild(docLink);\n",
              "        }\n",
              "      </script>\n",
              "    </div>\n",
              "  </div>\n",
              "  "
            ]
          },
          "metadata": {},
          "execution_count": 26
        }
      ],
      "source": [
        "# merge the DataFrames\n",
        "df = pd.merge(movies, ratings, how=\"inner\", on=['movie_id'])\n",
        "df"
      ]
    },
    {
      "cell_type": "markdown",
      "source": [
        "The new data frame has less rows because we perfomred an inner join. This join only keeps rows that have a matching value in both data frames being joined. This shows that the 'ratings' data frame has some movies that aren't listed in 'movies'"
      ],
      "metadata": {
        "id": "qKTauwaBLruW"
      }
    },
    {
      "cell_type": "markdown",
      "metadata": {
        "id": "W6kuEGEEJV9a"
      },
      "source": [
        "* Which movie received the largest number of five star ratings?  (In this and other questions, provide titles rather than IDs!)"
      ]
    },
    {
      "cell_type": "code",
      "execution_count": 31,
      "metadata": {
        "colab": {
          "base_uri": "https://localhost:8080/"
        },
        "id": "Ar_X44b-JV9a",
        "outputId": "9844edd1-c916-4d95-ac45-c6069aa7acc2"
      },
      "outputs": [
        {
          "output_type": "execute_result",
          "data": {
            "text/plain": [
              "title\n",
              "American Beauty (1999)                       228\n",
              "Star Wars: Episode IV - A New Hope (1977)    205\n",
              "dtype: int64"
            ]
          },
          "metadata": {},
          "execution_count": 31
        }
      ],
      "source": [
        "# largest number of five star ratings\n",
        "df[df['rating'] == 5].groupby('title').size().sort_values(ascending = False).head(2)"
      ]
    },
    {
      "cell_type": "markdown",
      "source": [
        "American Beauty in 1999 received the most 5 star ratings with 228."
      ],
      "metadata": {
        "id": "LXdbJPV5Menz"
      }
    },
    {
      "cell_type": "markdown",
      "metadata": {
        "id": "Y4AB9h5XJV9b"
      },
      "source": [
        "* Which movie received the highest average rating?  For this analysis, ignore movies that received fewer than 50 ratings."
      ]
    },
    {
      "cell_type": "code",
      "execution_count": 61,
      "metadata": {
        "colab": {
          "base_uri": "https://localhost:8080/"
        },
        "id": "Hny4JVLTJV9b",
        "outputId": "51716df2-300a-4f30-f89c-a1c723317f0c"
      },
      "outputs": [
        {
          "output_type": "execute_result",
          "data": {
            "text/plain": [
              "title\n",
              "Seven Samurai (The Magnificent Seven) (Shichinin no samurai) (1954)    4.660714\n",
              "Schindler's List (1993)                                                4.562249\n",
              "Name: rating, dtype: float64"
            ]
          },
          "metadata": {},
          "execution_count": 61
        }
      ],
      "source": [
        "# highest average rating\n",
        "size = df.groupby('title').size()\n",
        "size = pd.DataFrame(size).reset_index()\n",
        "large = pd.DataFrame(size[size[0] >= 50])\n",
        "df1 = pd.merge(df, large, how = 'inner', on=['title'])\n",
        "df1.groupby('title')['rating'].mean().sort_values(ascending = False).head(2)\n"
      ]
    },
    {
      "cell_type": "markdown",
      "source": [
        "Seven Samurai (The Magnificent Seven) (Shichinin no samurai) (1954) had the highest average rating among movies with at least 50 ratings. This movie had a rating of 4.66."
      ],
      "metadata": {
        "id": "m7sW6SQSO_3L"
      }
    },
    {
      "cell_type": "markdown",
      "metadata": {
        "id": "-ZyMK_vIJV9c"
      },
      "source": [
        "## Part 3:  NumPy"
      ]
    },
    {
      "cell_type": "markdown",
      "metadata": {
        "id": "IM2unQc6JV9c"
      },
      "source": [
        "### Counting zeros\n",
        "\n",
        "For a 1-d array $x$, we'll define its `number_of_zeros` as the number of elements in the array that are equal to zero.\n",
        "For example, for the array \n",
        "\n",
        "```Python\n",
        "[1, 5, 0, 6, 0, 1]\n",
        "```\n",
        "\n",
        "The `number_of_zeros` is equal to 2.\n",
        "\n",
        "We can apply `number_of_zeros` to a matrix $X$ (i.e. a 2-d array).\n",
        "The definition can be applied either to the columns or rows of the matrix, resulting in an array of `number_of_zeros` values for each column/row.  Your task is to write a function that computes that.  You may not use the NumPy functions count_nonzero, nonzero, and argwhere.\n",
        "\n",
        "For example, for the matrix\n",
        "```Python\n",
        "2 0 3 0\n",
        "0 0 1 5\n",
        "0 0 0 6\n",
        "```\n",
        "\n",
        "when applied to the columns, the result should be an array that contains the numbers\n",
        "\n",
        "```Python\n",
        "2 3 1 1\n",
        "```\n",
        "\n",
        "when applied to the rows the result should be an array that contains the numbers\n",
        "\n",
        "```Python\n",
        "2 2 3\n",
        "```\n",
        "\n",
        "Fill in the following function for computing `number_of_zeros`.  The axis  argument should control whether the operation is performed on columns or rows."
      ]
    },
    {
      "cell_type": "code",
      "execution_count": 62,
      "metadata": {
        "id": "-F9V-n3EJV9d"
      },
      "outputs": [],
      "source": [
        "import numpy as np"
      ]
    },
    {
      "cell_type": "code",
      "execution_count": 151,
      "metadata": {
        "id": "J50mqGvTJV9d"
      },
      "outputs": [],
      "source": [
        "def number_of_zeros(X, axis = 0):\n",
        "  I = np.zeros(np.shape(X))\n",
        "  return np.sum(I == X, axis = axis)"
      ]
    },
    {
      "cell_type": "code",
      "execution_count": 174,
      "metadata": {
        "colab": {
          "base_uri": "https://localhost:8080/"
        },
        "id": "h55I41lnJV9e",
        "outputId": "b0e9e4c4-0105-4e31-ac49-21ddec80b1d2"
      },
      "outputs": [
        {
          "output_type": "stream",
          "name": "stdout",
          "text": [
            "[0 2]\n",
            "[1 1 0]\n"
          ]
        }
      ],
      "source": [
        "# test your code here\n",
        "X = np.array([[3,0], [6,0],[8,2]]) \n",
        "print(number_of_zeros(X))\n",
        "print(number_of_zeros(X, 1))"
      ]
    },
    {
      "cell_type": "markdown",
      "metadata": {
        "id": "f8YbCCuDJV9e"
      },
      "source": [
        "### Removing sparse columns\n",
        "\n",
        "Write a function that removes sparse columns from a 2-d array.\n",
        "We will define a sparse column as a column that contains mostly zeros, and more specifically, the number of zeros is at least 90% of the entries in the column.  For example, if we apply this to the matrix\n",
        "\n",
        "```Python\n",
        "2 0 3 0\n",
        "0 0 1 5\n",
        "0 0 0 6\n",
        "```\n",
        "\n",
        "The second column would be removed.\n",
        "You can use the `number_of_zeros` function you just wrote to help you in this task."
      ]
    },
    {
      "cell_type": "code",
      "execution_count": 205,
      "metadata": {
        "id": "I3RM2mCkJV9f"
      },
      "outputs": [],
      "source": [
        "def remove_sparse_columns(X):\n",
        "  X1 = X == np.zeros(np.shape(X))\n",
        "  return X[:,np.sum(X1, axis = 0) / len(X1) <= 0.9]\n",
        "  "
      ]
    },
    {
      "cell_type": "code",
      "execution_count": 206,
      "metadata": {
        "colab": {
          "base_uri": "https://localhost:8080/"
        },
        "id": "9MgGQlC1JV9g",
        "outputId": "122dc6a0-97c5-4303-9bb9-16755f058c1e"
      },
      "outputs": [
        {
          "output_type": "execute_result",
          "data": {
            "text/plain": [
              "array([[2, 3, 0],\n",
              "       [0, 1, 5],\n",
              "       [0, 0, 6]])"
            ]
          },
          "metadata": {},
          "execution_count": 206
        }
      ],
      "source": [
        "X = np.array([[2, 0, 3, 0], [0,0,1,5],[0,0,0,6]]) \n",
        "remove_sparse_columns(X)"
      ]
    }
  ],
  "metadata": {
    "kernelspec": {
      "display_name": "Python 3 (ipykernel)",
      "language": "python",
      "name": "python3"
    },
    "language_info": {
      "codemirror_mode": {
        "name": "ipython",
        "version": 3
      },
      "file_extension": ".py",
      "mimetype": "text/x-python",
      "name": "python",
      "nbconvert_exporter": "python",
      "pygments_lexer": "ipython3",
      "version": "3.7.6"
    },
    "colab": {
      "name": "final_spr22.ipynb",
      "provenance": []
    }
  },
  "nbformat": 4,
  "nbformat_minor": 0
}